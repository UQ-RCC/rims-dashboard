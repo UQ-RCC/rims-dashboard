{
 "cells": [
  {
   "cell_type": "code",
   "execution_count": null,
   "metadata": {},
   "outputs": [],
   "source": [
    "%load_ext autoreload\n",
    "%autoreload 2\n",
    "import sys\n",
    "import os\n",
    "import pandas as pd\n",
    "import numpy as np\n",
    "\n",
    "#add the parent folder to sys path so we can import from the notebook subfolder\n",
    "sys.path.insert(1,'..')\n",
    "\n",
    "import rimsdash.rims as rims\n",
    "import rimsdash.usergather as gather\n",
    "import rimsdash.analytics as analytics\n",
    "import rimsdash.config as config\n",
    "import rimsdash.collate as collate\n",
    "import rimsdash.utils as utils\n",
    "import rimsdash.dashboard.lightboards as lightboards\n",
    "\n"
   ]
  },
  {
   "cell_type": "code",
   "execution_count": null,
   "metadata": {},
   "outputs": [],
   "source": [
    "df = gather.get_userdata_df(force=True)"
   ]
  },
  {
   "cell_type": "code",
   "execution_count": null,
   "metadata": {},
   "outputs": [],
   "source": [
    "ul = rims.get_userlist_pumapi()\n",
    "ul"
   ]
  },
  {
   "cell_type": "code",
   "execution_count": null,
   "metadata": {},
   "outputs": [],
   "source": [
    "newusers=rims.get_pending_users()\n",
    "\n",
    "newusers"
   ]
  },
  {
   "cell_type": "code",
   "execution_count": null,
   "metadata": {},
   "outputs": [],
   "source": [
    "result = []\n",
    "CORE_ID=2\n",
    "\n",
    "#strip out users from other cores before returning\n",
    "for userdict in newusers:\n",
    "    if userdict['coreid'] == CORE_ID:\n",
    "        result.append(userdict)\n",
    "\n",
    "result"
   ]
  },
  {
   "cell_type": "code",
   "execution_count": null,
   "metadata": {},
   "outputs": [],
   "source": [
    "import rimsdash.listops as listops\n",
    "\n",
    "#result = listops.search_substring(dict, \"name\", \"Ab\")\n",
    "#result = listops.search_value(dict, \"name\", \"Ab Hamid Nur\")\n",
    "result = listops.search_value(dict, 'id', 360)\n",
    "\n",
    "result\n",
    "#type(result[0]['id'])"
   ]
  },
  {
   "cell_type": "code",
   "execution_count": null,
   "metadata": {},
   "outputs": [],
   "source": [
    "df[df['email'].str.contains(\"uow\")]"
   ]
  },
  {
   "cell_type": "code",
   "execution_count": null,
   "metadata": {},
   "outputs": [],
   "source": [
    "#user_login = \"s4595555\"\n",
    "user_login = \"t.blach\"  #user w/ no projects or rights\n",
    "\n",
    "user_projects = rims.get_user_projects(user_login)\n",
    "\n",
    "rights_df = gather.get_user_rights_df(user_login)\n",
    "\n",
    "project_df = gather.gather_projectdetails(user_projects[0])\n",
    "\n",
    "systems_df = gather.get_systems_df()\n",
    "\n",
    "project_df"
   ]
  },
  {
   "cell_type": "code",
   "execution_count": null,
   "metadata": {},
   "outputs": [],
   "source": [
    "import json\n",
    "import rimsdash.dashboard.lightboards as lightboards\n",
    "\n",
    "core_array, labright_array, project_array = collate.dash_state(user_login)\n",
    "\n",
    "project_array"
   ]
  }
 ],
 "metadata": {
  "kernelspec": {
   "display_name": "Python 3.10.6 64-bit ('venv_rimsdash')",
   "language": "python",
   "name": "python3"
  },
  "language_info": {
   "codemirror_mode": {
    "name": "ipython",
    "version": 3
   },
   "file_extension": ".py",
   "mimetype": "text/x-python",
   "name": "python",
   "nbconvert_exporter": "python",
   "pygments_lexer": "ipython3",
   "version": "3.10.6"
  },
  "vscode": {
   "interpreter": {
    "hash": "b311cb64e1a93910631d74696944a379ae3c72336c73d14b355141dac61a4f02"
   }
  }
 },
 "nbformat": 4,
 "nbformat_minor": 2
}
