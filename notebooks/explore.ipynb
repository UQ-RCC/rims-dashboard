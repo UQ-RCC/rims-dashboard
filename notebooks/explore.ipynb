{
 "cells": [
  {
   "cell_type": "code",
   "execution_count": null,
   "metadata": {},
   "outputs": [],
   "source": [
    "%load_ext autoreload\n",
    "%autoreload 2\n",
    "import sys\n",
    "import os\n",
    "import pandas as pd\n",
    "import numpy as np\n",
    "\n",
    "#add the parent folder to sys path so we can import from the notebook subfolder\n",
    "sys.path.insert(1,'..')\n",
    "\n",
    "import rimsdash.rims as rims\n",
    "import rimsdash.usergather as gather\n",
    "import rimsdash.analytics as analytics\n",
    "import rimsdash.config as config\n",
    "\n",
    "user_data, project_data = gather.report_data()\n"
   ]
  },
  {
   "cell_type": "code",
   "execution_count": null,
   "metadata": {},
   "outputs": [],
   "source": [
    "uid_list, user_list = gather.gather_userlists()\n",
    "\n",
    "pid_list, pname_list = gather.gather_projectlists()\n",
    "\n",
    "rawproj=rims.get_projects()\n",
    "\n",
    "systems = rims.get_systems()\n",
    "\n",
    "rawproj"
   ]
  },
  {
   "cell_type": "code",
   "execution_count": null,
   "metadata": {},
   "outputs": [],
   "source": [
    "#login = 'myusername'\n",
    "#login='s4595555'   #aditya\n",
    "#login='s4391566'    #ronan\n",
    "login = 'uqlbourd'  #eg. user with no project\n",
    "\n",
    "indiv_row=user_data[user_data['login'] == login]\n",
    "indiv_id = int(indiv_row['id'].iloc[0]) \n",
    "indiv_login=str(indiv_row['login'].iloc[0]) \n",
    "\n",
    "print(f\"id: {indiv_id}, login: {indiv_login}\")\n",
    "\n",
    "user_info = rims.get_userdata_by_id(indiv_id)\n",
    "\n",
    "user_rights = rims.get_user_rights(indiv_login)\n",
    "\n",
    "user_projects = rims.get_user_projects(indiv_login)\n",
    "\n",
    "print(user_info)\n",
    "print(user_rights)\n",
    "print(user_projects)"
   ]
  },
  {
   "cell_type": "code",
   "execution_count": null,
   "metadata": {},
   "outputs": [],
   "source": [
    "lines = ['']\n",
    "\n",
    "[ _line for _line in lines ]"
   ]
  },
  {
   "cell_type": "code",
   "execution_count": null,
   "metadata": {},
   "outputs": [],
   "source": [
    "project_userlist = rims.get_project_users(user_projects[0])\n",
    "\n",
    "project_userlist"
   ]
  },
  {
   "cell_type": "code",
   "execution_count": null,
   "metadata": {},
   "outputs": [],
   "source": [
    "df = pd.DataFrame(user_rights.items(), columns=['systemid', 'access_level'])\n",
    "\n",
    "df"
   ]
  },
  {
   "cell_type": "code",
   "execution_count": null,
   "metadata": {},
   "outputs": [],
   "source": [
    "pdt = gather.gather_projectdetails(user_projects[0])\n",
    "\n",
    "pdt"
   ]
  },
  {
   "cell_type": "code",
   "execution_count": null,
   "metadata": {},
   "outputs": [],
   "source": [
    "user_data"
   ]
  }
 ],
 "metadata": {
  "kernelspec": {
   "display_name": "venv_rimsdash",
   "language": "python",
   "name": "python3"
  },
  "language_info": {
   "codemirror_mode": {
    "name": "ipython",
    "version": 3
   },
   "file_extension": ".py",
   "mimetype": "text/x-python",
   "name": "python",
   "nbconvert_exporter": "python",
   "pygments_lexer": "ipython3",
   "version": "3.10.6"
  }
 },
 "nbformat": 4,
 "nbformat_minor": 2
}
