{
 "cells": [
  {
   "cell_type": "code",
   "execution_count": 5,
   "metadata": {},
   "outputs": [
    {
     "name": "stdout",
     "output_type": "stream",
     "text": [
      "The autoreload extension is already loaded. To reload it, use:\n",
      "  %reload_ext autoreload\n"
     ]
    },
    {
     "data": {
      "text/html": [
       "<div>\n",
       "<style scoped>\n",
       "    .dataframe tbody tr th:only-of-type {\n",
       "        vertical-align: middle;\n",
       "    }\n",
       "\n",
       "    .dataframe tbody tr th {\n",
       "        vertical-align: top;\n",
       "    }\n",
       "\n",
       "    .dataframe thead th {\n",
       "        text-align: right;\n",
       "    }\n",
       "</style>\n",
       "<table border=\"1\" class=\"dataframe\">\n",
       "  <thead>\n",
       "    <tr style=\"text-align: right;\">\n",
       "      <th></th>\n",
       "      <th>date</th>\n",
       "      <th>user_hours</th>\n",
       "      <th>internal_hours</th>\n",
       "    </tr>\n",
       "  </thead>\n",
       "  <tbody>\n",
       "    <tr>\n",
       "      <th>0</th>\n",
       "      <td>2019-12-31</td>\n",
       "      <td>1909.25</td>\n",
       "      <td>1823.75</td>\n",
       "    </tr>\n",
       "    <tr>\n",
       "      <th>1</th>\n",
       "      <td>2020-12-31</td>\n",
       "      <td>1273.25</td>\n",
       "      <td>15.00</td>\n",
       "    </tr>\n",
       "    <tr>\n",
       "      <th>2</th>\n",
       "      <td>2021-12-31</td>\n",
       "      <td>1387.00</td>\n",
       "      <td>22.00</td>\n",
       "    </tr>\n",
       "    <tr>\n",
       "      <th>3</th>\n",
       "      <td>2022-12-31</td>\n",
       "      <td>3566.50</td>\n",
       "      <td>622.00</td>\n",
       "    </tr>\n",
       "    <tr>\n",
       "      <th>4</th>\n",
       "      <td>2023-12-31</td>\n",
       "      <td>1404.00</td>\n",
       "      <td>237.00</td>\n",
       "    </tr>\n",
       "  </tbody>\n",
       "</table>\n",
       "</div>"
      ],
      "text/plain": [
       "        date  user_hours  internal_hours\n",
       "0 2019-12-31     1909.25         1823.75\n",
       "1 2020-12-31     1273.25           15.00\n",
       "2 2021-12-31     1387.00           22.00\n",
       "3 2022-12-31     3566.50          622.00\n",
       "4 2023-12-31     1404.00          237.00"
      ]
     },
     "execution_count": 5,
     "metadata": {},
     "output_type": "execute_result"
    }
   ],
   "source": [
    "%load_ext autoreload\n",
    "%autoreload 2\n",
    "\n",
    "import rimsdash.rims as rims\n",
    "import rimsdash.gather as gather\n",
    "import pandas as pd\n",
    "\n",
    "\n",
    "instrument_id=126\n",
    "\n",
    "monthly_usage, annual_usage, full_data = gather.get_usage(instrument_id)\n",
    "\n",
    "#annual = usage.resample('Y', on='date')['user_hours'].sum()\n",
    "\n",
    "annual_usage"
   ]
  },
  {
   "cell_type": "code",
   "execution_count": 9,
   "metadata": {},
   "outputs": [
    {
     "data": {
      "application/vnd.plotly.v1+json": {
       "config": {
        "plotlyServerURL": "https://plot.ly"
       },
       "data": [
        {
         "marker": {
          "color": "rgb(81, 36, 122)"
         },
         "name": "User",
         "type": "bar",
         "x": [
          "2019-01-01T00:00:00",
          "2019-02-01T00:00:00",
          "2019-03-01T00:00:00",
          "2019-04-01T00:00:00",
          "2019-05-01T00:00:00",
          "2019-06-01T00:00:00",
          "2019-07-01T00:00:00",
          "2019-08-01T00:00:00",
          "2019-09-01T00:00:00",
          "2019-10-01T00:00:00",
          "2019-11-01T00:00:00",
          "2019-12-01T00:00:00",
          "2020-01-01T00:00:00",
          "2020-02-01T00:00:00",
          "2020-03-01T00:00:00",
          "2020-04-01T00:00:00",
          "2020-05-01T00:00:00",
          "2020-06-01T00:00:00",
          "2020-07-01T00:00:00",
          "2020-08-01T00:00:00",
          "2020-09-01T00:00:00",
          "2020-10-01T00:00:00",
          "2020-11-01T00:00:00",
          "2020-12-01T00:00:00",
          "2021-01-01T00:00:00",
          "2021-02-01T00:00:00",
          "2021-03-01T00:00:00",
          "2021-04-01T00:00:00",
          "2021-05-01T00:00:00",
          "2021-06-01T00:00:00",
          "2021-07-01T00:00:00",
          "2021-08-01T00:00:00",
          "2021-09-01T00:00:00",
          "2021-10-01T00:00:00",
          "2021-11-01T00:00:00",
          "2021-12-01T00:00:00",
          "2022-01-01T00:00:00",
          "2022-02-01T00:00:00",
          "2022-03-01T00:00:00",
          "2022-04-01T00:00:00",
          "2022-05-01T00:00:00",
          "2022-06-01T00:00:00",
          "2022-07-01T00:00:00",
          "2022-08-01T00:00:00",
          "2022-09-01T00:00:00",
          "2022-10-01T00:00:00",
          "2022-11-01T00:00:00",
          "2022-12-01T00:00:00",
          "2023-01-01T00:00:00",
          "2023-02-01T00:00:00",
          "2023-03-01T00:00:00",
          "2023-04-01T00:00:00",
          "2023-05-01T00:00:00",
          "2023-06-01T00:00:00",
          "2023-07-01T00:00:00",
          "2023-08-01T00:00:00",
          "2023-09-01T00:00:00",
          "2023-10-01T00:00:00",
          "2023-11-01T00:00:00",
          "2023-12-01T00:00:00"
         ],
         "y": [
          0,
          0,
          3,
          55,
          208,
          115,
          128,
          171,
          113,
          381,
          534.25,
          201,
          154,
          0,
          153,
          372.25,
          243,
          109,
          0,
          26,
          0,
          6,
          56,
          154,
          33,
          0,
          68,
          108,
          108,
          487,
          53,
          0,
          181,
          45,
          234,
          70,
          129,
          223,
          30.5,
          269,
          333,
          250,
          476,
          261,
          392,
          347,
          404,
          452,
          217,
          355,
          118,
          394,
          302,
          18,
          0,
          0,
          0,
          0,
          0,
          0
         ]
        },
        {
         "marker": {
          "color": "rgb(217, 172, 109)"
         },
         "name": "Internal",
         "type": "bar",
         "x": [
          "2019-01-01T00:00:00",
          "2019-02-01T00:00:00",
          "2019-03-01T00:00:00",
          "2019-04-01T00:00:00",
          "2019-05-01T00:00:00",
          "2019-06-01T00:00:00",
          "2019-07-01T00:00:00",
          "2019-08-01T00:00:00",
          "2019-09-01T00:00:00",
          "2019-10-01T00:00:00",
          "2019-11-01T00:00:00",
          "2019-12-01T00:00:00",
          "2020-01-01T00:00:00",
          "2020-02-01T00:00:00",
          "2020-03-01T00:00:00",
          "2020-04-01T00:00:00",
          "2020-05-01T00:00:00",
          "2020-06-01T00:00:00",
          "2020-07-01T00:00:00",
          "2020-08-01T00:00:00",
          "2020-09-01T00:00:00",
          "2020-10-01T00:00:00",
          "2020-11-01T00:00:00",
          "2020-12-01T00:00:00",
          "2021-01-01T00:00:00",
          "2021-02-01T00:00:00",
          "2021-03-01T00:00:00",
          "2021-04-01T00:00:00",
          "2021-05-01T00:00:00",
          "2021-06-01T00:00:00",
          "2021-07-01T00:00:00",
          "2021-08-01T00:00:00",
          "2021-09-01T00:00:00",
          "2021-10-01T00:00:00",
          "2021-11-01T00:00:00",
          "2021-12-01T00:00:00",
          "2022-01-01T00:00:00",
          "2022-02-01T00:00:00",
          "2022-03-01T00:00:00",
          "2022-04-01T00:00:00",
          "2022-05-01T00:00:00",
          "2022-06-01T00:00:00",
          "2022-07-01T00:00:00",
          "2022-08-01T00:00:00",
          "2022-09-01T00:00:00",
          "2022-10-01T00:00:00",
          "2022-11-01T00:00:00",
          "2022-12-01T00:00:00",
          "2023-01-01T00:00:00",
          "2023-02-01T00:00:00",
          "2023-03-01T00:00:00",
          "2023-04-01T00:00:00",
          "2023-05-01T00:00:00",
          "2023-06-01T00:00:00",
          "2023-07-01T00:00:00",
          "2023-08-01T00:00:00",
          "2023-09-01T00:00:00",
          "2023-10-01T00:00:00",
          "2023-11-01T00:00:00",
          "2023-12-01T00:00:00"
         ],
         "y": [
          284.5,
          338,
          214,
          180,
          274.25,
          88,
          181,
          60,
          109,
          6,
          17,
          72,
          0,
          0,
          1,
          14,
          0,
          0,
          0,
          0,
          0,
          0,
          0,
          0,
          0,
          0,
          0,
          0,
          0,
          22,
          0,
          0,
          0,
          0,
          0,
          0,
          0,
          0,
          0,
          0,
          25,
          76,
          68,
          5,
          65,
          186,
          137,
          60,
          40,
          67,
          16,
          4,
          77,
          33,
          0,
          0,
          0,
          0,
          0,
          0
         ]
        }
       ],
       "layout": {
        "barmode": "stack",
        "paper_bgcolor": "rgba(255,255,255,125)",
        "plot_bgcolor": "rgba(255,255,255,125)",
        "template": {
         "data": {
          "bar": [
           {
            "error_x": {
             "color": "#2a3f5f"
            },
            "error_y": {
             "color": "#2a3f5f"
            },
            "marker": {
             "line": {
              "color": "#E5ECF6",
              "width": 0.5
             },
             "pattern": {
              "fillmode": "overlay",
              "size": 10,
              "solidity": 0.2
             }
            },
            "type": "bar"
           }
          ],
          "barpolar": [
           {
            "marker": {
             "line": {
              "color": "#E5ECF6",
              "width": 0.5
             },
             "pattern": {
              "fillmode": "overlay",
              "size": 10,
              "solidity": 0.2
             }
            },
            "type": "barpolar"
           }
          ],
          "carpet": [
           {
            "aaxis": {
             "endlinecolor": "#2a3f5f",
             "gridcolor": "white",
             "linecolor": "white",
             "minorgridcolor": "white",
             "startlinecolor": "#2a3f5f"
            },
            "baxis": {
             "endlinecolor": "#2a3f5f",
             "gridcolor": "white",
             "linecolor": "white",
             "minorgridcolor": "white",
             "startlinecolor": "#2a3f5f"
            },
            "type": "carpet"
           }
          ],
          "choropleth": [
           {
            "colorbar": {
             "outlinewidth": 0,
             "ticks": ""
            },
            "type": "choropleth"
           }
          ],
          "contour": [
           {
            "colorbar": {
             "outlinewidth": 0,
             "ticks": ""
            },
            "colorscale": [
             [
              0,
              "#0d0887"
             ],
             [
              0.1111111111111111,
              "#46039f"
             ],
             [
              0.2222222222222222,
              "#7201a8"
             ],
             [
              0.3333333333333333,
              "#9c179e"
             ],
             [
              0.4444444444444444,
              "#bd3786"
             ],
             [
              0.5555555555555556,
              "#d8576b"
             ],
             [
              0.6666666666666666,
              "#ed7953"
             ],
             [
              0.7777777777777778,
              "#fb9f3a"
             ],
             [
              0.8888888888888888,
              "#fdca26"
             ],
             [
              1,
              "#f0f921"
             ]
            ],
            "type": "contour"
           }
          ],
          "contourcarpet": [
           {
            "colorbar": {
             "outlinewidth": 0,
             "ticks": ""
            },
            "type": "contourcarpet"
           }
          ],
          "heatmap": [
           {
            "colorbar": {
             "outlinewidth": 0,
             "ticks": ""
            },
            "colorscale": [
             [
              0,
              "#0d0887"
             ],
             [
              0.1111111111111111,
              "#46039f"
             ],
             [
              0.2222222222222222,
              "#7201a8"
             ],
             [
              0.3333333333333333,
              "#9c179e"
             ],
             [
              0.4444444444444444,
              "#bd3786"
             ],
             [
              0.5555555555555556,
              "#d8576b"
             ],
             [
              0.6666666666666666,
              "#ed7953"
             ],
             [
              0.7777777777777778,
              "#fb9f3a"
             ],
             [
              0.8888888888888888,
              "#fdca26"
             ],
             [
              1,
              "#f0f921"
             ]
            ],
            "type": "heatmap"
           }
          ],
          "heatmapgl": [
           {
            "colorbar": {
             "outlinewidth": 0,
             "ticks": ""
            },
            "colorscale": [
             [
              0,
              "#0d0887"
             ],
             [
              0.1111111111111111,
              "#46039f"
             ],
             [
              0.2222222222222222,
              "#7201a8"
             ],
             [
              0.3333333333333333,
              "#9c179e"
             ],
             [
              0.4444444444444444,
              "#bd3786"
             ],
             [
              0.5555555555555556,
              "#d8576b"
             ],
             [
              0.6666666666666666,
              "#ed7953"
             ],
             [
              0.7777777777777778,
              "#fb9f3a"
             ],
             [
              0.8888888888888888,
              "#fdca26"
             ],
             [
              1,
              "#f0f921"
             ]
            ],
            "type": "heatmapgl"
           }
          ],
          "histogram": [
           {
            "marker": {
             "pattern": {
              "fillmode": "overlay",
              "size": 10,
              "solidity": 0.2
             }
            },
            "type": "histogram"
           }
          ],
          "histogram2d": [
           {
            "colorbar": {
             "outlinewidth": 0,
             "ticks": ""
            },
            "colorscale": [
             [
              0,
              "#0d0887"
             ],
             [
              0.1111111111111111,
              "#46039f"
             ],
             [
              0.2222222222222222,
              "#7201a8"
             ],
             [
              0.3333333333333333,
              "#9c179e"
             ],
             [
              0.4444444444444444,
              "#bd3786"
             ],
             [
              0.5555555555555556,
              "#d8576b"
             ],
             [
              0.6666666666666666,
              "#ed7953"
             ],
             [
              0.7777777777777778,
              "#fb9f3a"
             ],
             [
              0.8888888888888888,
              "#fdca26"
             ],
             [
              1,
              "#f0f921"
             ]
            ],
            "type": "histogram2d"
           }
          ],
          "histogram2dcontour": [
           {
            "colorbar": {
             "outlinewidth": 0,
             "ticks": ""
            },
            "colorscale": [
             [
              0,
              "#0d0887"
             ],
             [
              0.1111111111111111,
              "#46039f"
             ],
             [
              0.2222222222222222,
              "#7201a8"
             ],
             [
              0.3333333333333333,
              "#9c179e"
             ],
             [
              0.4444444444444444,
              "#bd3786"
             ],
             [
              0.5555555555555556,
              "#d8576b"
             ],
             [
              0.6666666666666666,
              "#ed7953"
             ],
             [
              0.7777777777777778,
              "#fb9f3a"
             ],
             [
              0.8888888888888888,
              "#fdca26"
             ],
             [
              1,
              "#f0f921"
             ]
            ],
            "type": "histogram2dcontour"
           }
          ],
          "mesh3d": [
           {
            "colorbar": {
             "outlinewidth": 0,
             "ticks": ""
            },
            "type": "mesh3d"
           }
          ],
          "parcoords": [
           {
            "line": {
             "colorbar": {
              "outlinewidth": 0,
              "ticks": ""
             }
            },
            "type": "parcoords"
           }
          ],
          "pie": [
           {
            "automargin": true,
            "type": "pie"
           }
          ],
          "scatter": [
           {
            "fillpattern": {
             "fillmode": "overlay",
             "size": 10,
             "solidity": 0.2
            },
            "type": "scatter"
           }
          ],
          "scatter3d": [
           {
            "line": {
             "colorbar": {
              "outlinewidth": 0,
              "ticks": ""
             }
            },
            "marker": {
             "colorbar": {
              "outlinewidth": 0,
              "ticks": ""
             }
            },
            "type": "scatter3d"
           }
          ],
          "scattercarpet": [
           {
            "marker": {
             "colorbar": {
              "outlinewidth": 0,
              "ticks": ""
             }
            },
            "type": "scattercarpet"
           }
          ],
          "scattergeo": [
           {
            "marker": {
             "colorbar": {
              "outlinewidth": 0,
              "ticks": ""
             }
            },
            "type": "scattergeo"
           }
          ],
          "scattergl": [
           {
            "marker": {
             "colorbar": {
              "outlinewidth": 0,
              "ticks": ""
             }
            },
            "type": "scattergl"
           }
          ],
          "scattermapbox": [
           {
            "marker": {
             "colorbar": {
              "outlinewidth": 0,
              "ticks": ""
             }
            },
            "type": "scattermapbox"
           }
          ],
          "scatterpolar": [
           {
            "marker": {
             "colorbar": {
              "outlinewidth": 0,
              "ticks": ""
             }
            },
            "type": "scatterpolar"
           }
          ],
          "scatterpolargl": [
           {
            "marker": {
             "colorbar": {
              "outlinewidth": 0,
              "ticks": ""
             }
            },
            "type": "scatterpolargl"
           }
          ],
          "scatterternary": [
           {
            "marker": {
             "colorbar": {
              "outlinewidth": 0,
              "ticks": ""
             }
            },
            "type": "scatterternary"
           }
          ],
          "surface": [
           {
            "colorbar": {
             "outlinewidth": 0,
             "ticks": ""
            },
            "colorscale": [
             [
              0,
              "#0d0887"
             ],
             [
              0.1111111111111111,
              "#46039f"
             ],
             [
              0.2222222222222222,
              "#7201a8"
             ],
             [
              0.3333333333333333,
              "#9c179e"
             ],
             [
              0.4444444444444444,
              "#bd3786"
             ],
             [
              0.5555555555555556,
              "#d8576b"
             ],
             [
              0.6666666666666666,
              "#ed7953"
             ],
             [
              0.7777777777777778,
              "#fb9f3a"
             ],
             [
              0.8888888888888888,
              "#fdca26"
             ],
             [
              1,
              "#f0f921"
             ]
            ],
            "type": "surface"
           }
          ],
          "table": [
           {
            "cells": {
             "fill": {
              "color": "#EBF0F8"
             },
             "line": {
              "color": "white"
             }
            },
            "header": {
             "fill": {
              "color": "#C8D4E3"
             },
             "line": {
              "color": "white"
             }
            },
            "type": "table"
           }
          ]
         },
         "layout": {
          "annotationdefaults": {
           "arrowcolor": "#2a3f5f",
           "arrowhead": 0,
           "arrowwidth": 1
          },
          "autotypenumbers": "strict",
          "coloraxis": {
           "colorbar": {
            "outlinewidth": 0,
            "ticks": ""
           }
          },
          "colorscale": {
           "diverging": [
            [
             0,
             "#8e0152"
            ],
            [
             0.1,
             "#c51b7d"
            ],
            [
             0.2,
             "#de77ae"
            ],
            [
             0.3,
             "#f1b6da"
            ],
            [
             0.4,
             "#fde0ef"
            ],
            [
             0.5,
             "#f7f7f7"
            ],
            [
             0.6,
             "#e6f5d0"
            ],
            [
             0.7,
             "#b8e186"
            ],
            [
             0.8,
             "#7fbc41"
            ],
            [
             0.9,
             "#4d9221"
            ],
            [
             1,
             "#276419"
            ]
           ],
           "sequential": [
            [
             0,
             "#0d0887"
            ],
            [
             0.1111111111111111,
             "#46039f"
            ],
            [
             0.2222222222222222,
             "#7201a8"
            ],
            [
             0.3333333333333333,
             "#9c179e"
            ],
            [
             0.4444444444444444,
             "#bd3786"
            ],
            [
             0.5555555555555556,
             "#d8576b"
            ],
            [
             0.6666666666666666,
             "#ed7953"
            ],
            [
             0.7777777777777778,
             "#fb9f3a"
            ],
            [
             0.8888888888888888,
             "#fdca26"
            ],
            [
             1,
             "#f0f921"
            ]
           ],
           "sequentialminus": [
            [
             0,
             "#0d0887"
            ],
            [
             0.1111111111111111,
             "#46039f"
            ],
            [
             0.2222222222222222,
             "#7201a8"
            ],
            [
             0.3333333333333333,
             "#9c179e"
            ],
            [
             0.4444444444444444,
             "#bd3786"
            ],
            [
             0.5555555555555556,
             "#d8576b"
            ],
            [
             0.6666666666666666,
             "#ed7953"
            ],
            [
             0.7777777777777778,
             "#fb9f3a"
            ],
            [
             0.8888888888888888,
             "#fdca26"
            ],
            [
             1,
             "#f0f921"
            ]
           ]
          },
          "colorway": [
           "#636efa",
           "#EF553B",
           "#00cc96",
           "#ab63fa",
           "#FFA15A",
           "#19d3f3",
           "#FF6692",
           "#B6E880",
           "#FF97FF",
           "#FECB52"
          ],
          "font": {
           "color": "#2a3f5f"
          },
          "geo": {
           "bgcolor": "white",
           "lakecolor": "white",
           "landcolor": "#E5ECF6",
           "showlakes": true,
           "showland": true,
           "subunitcolor": "white"
          },
          "hoverlabel": {
           "align": "left"
          },
          "hovermode": "closest",
          "mapbox": {
           "style": "light"
          },
          "paper_bgcolor": "white",
          "plot_bgcolor": "#E5ECF6",
          "polar": {
           "angularaxis": {
            "gridcolor": "white",
            "linecolor": "white",
            "ticks": ""
           },
           "bgcolor": "#E5ECF6",
           "radialaxis": {
            "gridcolor": "white",
            "linecolor": "white",
            "ticks": ""
           }
          },
          "scene": {
           "xaxis": {
            "backgroundcolor": "#E5ECF6",
            "gridcolor": "white",
            "gridwidth": 2,
            "linecolor": "white",
            "showbackground": true,
            "ticks": "",
            "zerolinecolor": "white"
           },
           "yaxis": {
            "backgroundcolor": "#E5ECF6",
            "gridcolor": "white",
            "gridwidth": 2,
            "linecolor": "white",
            "showbackground": true,
            "ticks": "",
            "zerolinecolor": "white"
           },
           "zaxis": {
            "backgroundcolor": "#E5ECF6",
            "gridcolor": "white",
            "gridwidth": 2,
            "linecolor": "white",
            "showbackground": true,
            "ticks": "",
            "zerolinecolor": "white"
           }
          },
          "shapedefaults": {
           "line": {
            "color": "#2a3f5f"
           }
          },
          "ternary": {
           "aaxis": {
            "gridcolor": "white",
            "linecolor": "white",
            "ticks": ""
           },
           "baxis": {
            "gridcolor": "white",
            "linecolor": "white",
            "ticks": ""
           },
           "bgcolor": "#E5ECF6",
           "caxis": {
            "gridcolor": "white",
            "linecolor": "white",
            "ticks": ""
           }
          },
          "title": {
           "x": 0.05
          },
          "xaxis": {
           "automargin": true,
           "gridcolor": "white",
           "linecolor": "white",
           "ticks": "",
           "title": {
            "standoff": 15
           },
           "zerolinecolor": "white",
           "zerolinewidth": 2
          },
          "yaxis": {
           "automargin": true,
           "gridcolor": "white",
           "linecolor": "white",
           "ticks": "",
           "title": {
            "standoff": 15
           },
           "zerolinecolor": "white",
           "zerolinewidth": 2
          }
         }
        }
       }
      },
      "text/html": [
       "<div>                            <div id=\"27a4931f-cfff-456f-9f57-e160fa423ca6\" class=\"plotly-graph-div\" style=\"height:525px; width:100%;\"></div>            <script type=\"text/javascript\">                require([\"plotly\"], function(Plotly) {                    window.PLOTLYENV=window.PLOTLYENV || {};                                    if (document.getElementById(\"27a4931f-cfff-456f-9f57-e160fa423ca6\")) {                    Plotly.newPlot(                        \"27a4931f-cfff-456f-9f57-e160fa423ca6\",                        [{\"marker\":{\"color\":\"rgb(81, 36, 122)\"},\"name\":\"User\",\"x\":[\"2019-01-01T00:00:00\",\"2019-02-01T00:00:00\",\"2019-03-01T00:00:00\",\"2019-04-01T00:00:00\",\"2019-05-01T00:00:00\",\"2019-06-01T00:00:00\",\"2019-07-01T00:00:00\",\"2019-08-01T00:00:00\",\"2019-09-01T00:00:00\",\"2019-10-01T00:00:00\",\"2019-11-01T00:00:00\",\"2019-12-01T00:00:00\",\"2020-01-01T00:00:00\",\"2020-02-01T00:00:00\",\"2020-03-01T00:00:00\",\"2020-04-01T00:00:00\",\"2020-05-01T00:00:00\",\"2020-06-01T00:00:00\",\"2020-07-01T00:00:00\",\"2020-08-01T00:00:00\",\"2020-09-01T00:00:00\",\"2020-10-01T00:00:00\",\"2020-11-01T00:00:00\",\"2020-12-01T00:00:00\",\"2021-01-01T00:00:00\",\"2021-02-01T00:00:00\",\"2021-03-01T00:00:00\",\"2021-04-01T00:00:00\",\"2021-05-01T00:00:00\",\"2021-06-01T00:00:00\",\"2021-07-01T00:00:00\",\"2021-08-01T00:00:00\",\"2021-09-01T00:00:00\",\"2021-10-01T00:00:00\",\"2021-11-01T00:00:00\",\"2021-12-01T00:00:00\",\"2022-01-01T00:00:00\",\"2022-02-01T00:00:00\",\"2022-03-01T00:00:00\",\"2022-04-01T00:00:00\",\"2022-05-01T00:00:00\",\"2022-06-01T00:00:00\",\"2022-07-01T00:00:00\",\"2022-08-01T00:00:00\",\"2022-09-01T00:00:00\",\"2022-10-01T00:00:00\",\"2022-11-01T00:00:00\",\"2022-12-01T00:00:00\",\"2023-01-01T00:00:00\",\"2023-02-01T00:00:00\",\"2023-03-01T00:00:00\",\"2023-04-01T00:00:00\",\"2023-05-01T00:00:00\",\"2023-06-01T00:00:00\",\"2023-07-01T00:00:00\",\"2023-08-01T00:00:00\",\"2023-09-01T00:00:00\",\"2023-10-01T00:00:00\",\"2023-11-01T00:00:00\",\"2023-12-01T00:00:00\"],\"y\":[0.0,0.0,3.0,55.0,208.0,115.0,128.0,171.0,113.0,381.0,534.25,201.0,154.0,0.0,153.0,372.25,243.0,109.0,0.0,26.0,0.0,6.0,56.0,154.0,33.0,0.0,68.0,108.0,108.0,487.0,53.0,0.0,181.0,45.0,234.0,70.0,129.0,223.0,30.5,269.0,333.0,250.0,476.0,261.0,392.0,347.0,404.0,452.0,217.0,355.0,118.0,394.0,302.0,18.0,0.0,0.0,0.0,0.0,0.0,0.0],\"type\":\"bar\"},{\"marker\":{\"color\":\"rgb(217, 172, 109)\"},\"name\":\"Internal\",\"x\":[\"2019-01-01T00:00:00\",\"2019-02-01T00:00:00\",\"2019-03-01T00:00:00\",\"2019-04-01T00:00:00\",\"2019-05-01T00:00:00\",\"2019-06-01T00:00:00\",\"2019-07-01T00:00:00\",\"2019-08-01T00:00:00\",\"2019-09-01T00:00:00\",\"2019-10-01T00:00:00\",\"2019-11-01T00:00:00\",\"2019-12-01T00:00:00\",\"2020-01-01T00:00:00\",\"2020-02-01T00:00:00\",\"2020-03-01T00:00:00\",\"2020-04-01T00:00:00\",\"2020-05-01T00:00:00\",\"2020-06-01T00:00:00\",\"2020-07-01T00:00:00\",\"2020-08-01T00:00:00\",\"2020-09-01T00:00:00\",\"2020-10-01T00:00:00\",\"2020-11-01T00:00:00\",\"2020-12-01T00:00:00\",\"2021-01-01T00:00:00\",\"2021-02-01T00:00:00\",\"2021-03-01T00:00:00\",\"2021-04-01T00:00:00\",\"2021-05-01T00:00:00\",\"2021-06-01T00:00:00\",\"2021-07-01T00:00:00\",\"2021-08-01T00:00:00\",\"2021-09-01T00:00:00\",\"2021-10-01T00:00:00\",\"2021-11-01T00:00:00\",\"2021-12-01T00:00:00\",\"2022-01-01T00:00:00\",\"2022-02-01T00:00:00\",\"2022-03-01T00:00:00\",\"2022-04-01T00:00:00\",\"2022-05-01T00:00:00\",\"2022-06-01T00:00:00\",\"2022-07-01T00:00:00\",\"2022-08-01T00:00:00\",\"2022-09-01T00:00:00\",\"2022-10-01T00:00:00\",\"2022-11-01T00:00:00\",\"2022-12-01T00:00:00\",\"2023-01-01T00:00:00\",\"2023-02-01T00:00:00\",\"2023-03-01T00:00:00\",\"2023-04-01T00:00:00\",\"2023-05-01T00:00:00\",\"2023-06-01T00:00:00\",\"2023-07-01T00:00:00\",\"2023-08-01T00:00:00\",\"2023-09-01T00:00:00\",\"2023-10-01T00:00:00\",\"2023-11-01T00:00:00\",\"2023-12-01T00:00:00\"],\"y\":[284.5,338.0,214.0,180.0,274.25,88.0,181.0,60.0,109.0,6.0,17.0,72.0,0.0,0.0,1.0,14.0,0.0,0.0,0.0,0.0,0.0,0.0,0.0,0.0,0.0,0.0,0.0,0.0,0.0,22.0,0.0,0.0,0.0,0.0,0.0,0.0,0.0,0.0,0.0,0.0,25.0,76.0,68.0,5.0,65.0,186.0,137.0,60.0,40.0,67.0,16.0,4.0,77.0,33.0,0.0,0.0,0.0,0.0,0.0,0.0],\"type\":\"bar\"}],                        {\"paper_bgcolor\":\"rgba(255,255,255,125)\",\"plot_bgcolor\":\"rgba(255,255,255,125)\",\"template\":{\"data\":{\"histogram2dcontour\":[{\"type\":\"histogram2dcontour\",\"colorbar\":{\"outlinewidth\":0,\"ticks\":\"\"},\"colorscale\":[[0.0,\"#0d0887\"],[0.1111111111111111,\"#46039f\"],[0.2222222222222222,\"#7201a8\"],[0.3333333333333333,\"#9c179e\"],[0.4444444444444444,\"#bd3786\"],[0.5555555555555556,\"#d8576b\"],[0.6666666666666666,\"#ed7953\"],[0.7777777777777778,\"#fb9f3a\"],[0.8888888888888888,\"#fdca26\"],[1.0,\"#f0f921\"]]}],\"choropleth\":[{\"type\":\"choropleth\",\"colorbar\":{\"outlinewidth\":0,\"ticks\":\"\"}}],\"histogram2d\":[{\"type\":\"histogram2d\",\"colorbar\":{\"outlinewidth\":0,\"ticks\":\"\"},\"colorscale\":[[0.0,\"#0d0887\"],[0.1111111111111111,\"#46039f\"],[0.2222222222222222,\"#7201a8\"],[0.3333333333333333,\"#9c179e\"],[0.4444444444444444,\"#bd3786\"],[0.5555555555555556,\"#d8576b\"],[0.6666666666666666,\"#ed7953\"],[0.7777777777777778,\"#fb9f3a\"],[0.8888888888888888,\"#fdca26\"],[1.0,\"#f0f921\"]]}],\"heatmap\":[{\"type\":\"heatmap\",\"colorbar\":{\"outlinewidth\":0,\"ticks\":\"\"},\"colorscale\":[[0.0,\"#0d0887\"],[0.1111111111111111,\"#46039f\"],[0.2222222222222222,\"#7201a8\"],[0.3333333333333333,\"#9c179e\"],[0.4444444444444444,\"#bd3786\"],[0.5555555555555556,\"#d8576b\"],[0.6666666666666666,\"#ed7953\"],[0.7777777777777778,\"#fb9f3a\"],[0.8888888888888888,\"#fdca26\"],[1.0,\"#f0f921\"]]}],\"heatmapgl\":[{\"type\":\"heatmapgl\",\"colorbar\":{\"outlinewidth\":0,\"ticks\":\"\"},\"colorscale\":[[0.0,\"#0d0887\"],[0.1111111111111111,\"#46039f\"],[0.2222222222222222,\"#7201a8\"],[0.3333333333333333,\"#9c179e\"],[0.4444444444444444,\"#bd3786\"],[0.5555555555555556,\"#d8576b\"],[0.6666666666666666,\"#ed7953\"],[0.7777777777777778,\"#fb9f3a\"],[0.8888888888888888,\"#fdca26\"],[1.0,\"#f0f921\"]]}],\"contourcarpet\":[{\"type\":\"contourcarpet\",\"colorbar\":{\"outlinewidth\":0,\"ticks\":\"\"}}],\"contour\":[{\"type\":\"contour\",\"colorbar\":{\"outlinewidth\":0,\"ticks\":\"\"},\"colorscale\":[[0.0,\"#0d0887\"],[0.1111111111111111,\"#46039f\"],[0.2222222222222222,\"#7201a8\"],[0.3333333333333333,\"#9c179e\"],[0.4444444444444444,\"#bd3786\"],[0.5555555555555556,\"#d8576b\"],[0.6666666666666666,\"#ed7953\"],[0.7777777777777778,\"#fb9f3a\"],[0.8888888888888888,\"#fdca26\"],[1.0,\"#f0f921\"]]}],\"surface\":[{\"type\":\"surface\",\"colorbar\":{\"outlinewidth\":0,\"ticks\":\"\"},\"colorscale\":[[0.0,\"#0d0887\"],[0.1111111111111111,\"#46039f\"],[0.2222222222222222,\"#7201a8\"],[0.3333333333333333,\"#9c179e\"],[0.4444444444444444,\"#bd3786\"],[0.5555555555555556,\"#d8576b\"],[0.6666666666666666,\"#ed7953\"],[0.7777777777777778,\"#fb9f3a\"],[0.8888888888888888,\"#fdca26\"],[1.0,\"#f0f921\"]]}],\"mesh3d\":[{\"type\":\"mesh3d\",\"colorbar\":{\"outlinewidth\":0,\"ticks\":\"\"}}],\"scatter\":[{\"fillpattern\":{\"fillmode\":\"overlay\",\"size\":10,\"solidity\":0.2},\"type\":\"scatter\"}],\"parcoords\":[{\"type\":\"parcoords\",\"line\":{\"colorbar\":{\"outlinewidth\":0,\"ticks\":\"\"}}}],\"scatterpolargl\":[{\"type\":\"scatterpolargl\",\"marker\":{\"colorbar\":{\"outlinewidth\":0,\"ticks\":\"\"}}}],\"bar\":[{\"error_x\":{\"color\":\"#2a3f5f\"},\"error_y\":{\"color\":\"#2a3f5f\"},\"marker\":{\"line\":{\"color\":\"#E5ECF6\",\"width\":0.5},\"pattern\":{\"fillmode\":\"overlay\",\"size\":10,\"solidity\":0.2}},\"type\":\"bar\"}],\"scattergeo\":[{\"type\":\"scattergeo\",\"marker\":{\"colorbar\":{\"outlinewidth\":0,\"ticks\":\"\"}}}],\"scatterpolar\":[{\"type\":\"scatterpolar\",\"marker\":{\"colorbar\":{\"outlinewidth\":0,\"ticks\":\"\"}}}],\"histogram\":[{\"marker\":{\"pattern\":{\"fillmode\":\"overlay\",\"size\":10,\"solidity\":0.2}},\"type\":\"histogram\"}],\"scattergl\":[{\"type\":\"scattergl\",\"marker\":{\"colorbar\":{\"outlinewidth\":0,\"ticks\":\"\"}}}],\"scatter3d\":[{\"type\":\"scatter3d\",\"line\":{\"colorbar\":{\"outlinewidth\":0,\"ticks\":\"\"}},\"marker\":{\"colorbar\":{\"outlinewidth\":0,\"ticks\":\"\"}}}],\"scattermapbox\":[{\"type\":\"scattermapbox\",\"marker\":{\"colorbar\":{\"outlinewidth\":0,\"ticks\":\"\"}}}],\"scatterternary\":[{\"type\":\"scatterternary\",\"marker\":{\"colorbar\":{\"outlinewidth\":0,\"ticks\":\"\"}}}],\"scattercarpet\":[{\"type\":\"scattercarpet\",\"marker\":{\"colorbar\":{\"outlinewidth\":0,\"ticks\":\"\"}}}],\"carpet\":[{\"aaxis\":{\"endlinecolor\":\"#2a3f5f\",\"gridcolor\":\"white\",\"linecolor\":\"white\",\"minorgridcolor\":\"white\",\"startlinecolor\":\"#2a3f5f\"},\"baxis\":{\"endlinecolor\":\"#2a3f5f\",\"gridcolor\":\"white\",\"linecolor\":\"white\",\"minorgridcolor\":\"white\",\"startlinecolor\":\"#2a3f5f\"},\"type\":\"carpet\"}],\"table\":[{\"cells\":{\"fill\":{\"color\":\"#EBF0F8\"},\"line\":{\"color\":\"white\"}},\"header\":{\"fill\":{\"color\":\"#C8D4E3\"},\"line\":{\"color\":\"white\"}},\"type\":\"table\"}],\"barpolar\":[{\"marker\":{\"line\":{\"color\":\"#E5ECF6\",\"width\":0.5},\"pattern\":{\"fillmode\":\"overlay\",\"size\":10,\"solidity\":0.2}},\"type\":\"barpolar\"}],\"pie\":[{\"automargin\":true,\"type\":\"pie\"}]},\"layout\":{\"autotypenumbers\":\"strict\",\"colorway\":[\"#636efa\",\"#EF553B\",\"#00cc96\",\"#ab63fa\",\"#FFA15A\",\"#19d3f3\",\"#FF6692\",\"#B6E880\",\"#FF97FF\",\"#FECB52\"],\"font\":{\"color\":\"#2a3f5f\"},\"hovermode\":\"closest\",\"hoverlabel\":{\"align\":\"left\"},\"paper_bgcolor\":\"white\",\"plot_bgcolor\":\"#E5ECF6\",\"polar\":{\"bgcolor\":\"#E5ECF6\",\"angularaxis\":{\"gridcolor\":\"white\",\"linecolor\":\"white\",\"ticks\":\"\"},\"radialaxis\":{\"gridcolor\":\"white\",\"linecolor\":\"white\",\"ticks\":\"\"}},\"ternary\":{\"bgcolor\":\"#E5ECF6\",\"aaxis\":{\"gridcolor\":\"white\",\"linecolor\":\"white\",\"ticks\":\"\"},\"baxis\":{\"gridcolor\":\"white\",\"linecolor\":\"white\",\"ticks\":\"\"},\"caxis\":{\"gridcolor\":\"white\",\"linecolor\":\"white\",\"ticks\":\"\"}},\"coloraxis\":{\"colorbar\":{\"outlinewidth\":0,\"ticks\":\"\"}},\"colorscale\":{\"sequential\":[[0.0,\"#0d0887\"],[0.1111111111111111,\"#46039f\"],[0.2222222222222222,\"#7201a8\"],[0.3333333333333333,\"#9c179e\"],[0.4444444444444444,\"#bd3786\"],[0.5555555555555556,\"#d8576b\"],[0.6666666666666666,\"#ed7953\"],[0.7777777777777778,\"#fb9f3a\"],[0.8888888888888888,\"#fdca26\"],[1.0,\"#f0f921\"]],\"sequentialminus\":[[0.0,\"#0d0887\"],[0.1111111111111111,\"#46039f\"],[0.2222222222222222,\"#7201a8\"],[0.3333333333333333,\"#9c179e\"],[0.4444444444444444,\"#bd3786\"],[0.5555555555555556,\"#d8576b\"],[0.6666666666666666,\"#ed7953\"],[0.7777777777777778,\"#fb9f3a\"],[0.8888888888888888,\"#fdca26\"],[1.0,\"#f0f921\"]],\"diverging\":[[0,\"#8e0152\"],[0.1,\"#c51b7d\"],[0.2,\"#de77ae\"],[0.3,\"#f1b6da\"],[0.4,\"#fde0ef\"],[0.5,\"#f7f7f7\"],[0.6,\"#e6f5d0\"],[0.7,\"#b8e186\"],[0.8,\"#7fbc41\"],[0.9,\"#4d9221\"],[1,\"#276419\"]]},\"xaxis\":{\"gridcolor\":\"white\",\"linecolor\":\"white\",\"ticks\":\"\",\"title\":{\"standoff\":15},\"zerolinecolor\":\"white\",\"automargin\":true,\"zerolinewidth\":2},\"yaxis\":{\"gridcolor\":\"white\",\"linecolor\":\"white\",\"ticks\":\"\",\"title\":{\"standoff\":15},\"zerolinecolor\":\"white\",\"automargin\":true,\"zerolinewidth\":2},\"scene\":{\"xaxis\":{\"backgroundcolor\":\"#E5ECF6\",\"gridcolor\":\"white\",\"linecolor\":\"white\",\"showbackground\":true,\"ticks\":\"\",\"zerolinecolor\":\"white\",\"gridwidth\":2},\"yaxis\":{\"backgroundcolor\":\"#E5ECF6\",\"gridcolor\":\"white\",\"linecolor\":\"white\",\"showbackground\":true,\"ticks\":\"\",\"zerolinecolor\":\"white\",\"gridwidth\":2},\"zaxis\":{\"backgroundcolor\":\"#E5ECF6\",\"gridcolor\":\"white\",\"linecolor\":\"white\",\"showbackground\":true,\"ticks\":\"\",\"zerolinecolor\":\"white\",\"gridwidth\":2}},\"shapedefaults\":{\"line\":{\"color\":\"#2a3f5f\"}},\"annotationdefaults\":{\"arrowcolor\":\"#2a3f5f\",\"arrowhead\":0,\"arrowwidth\":1},\"geo\":{\"bgcolor\":\"white\",\"landcolor\":\"#E5ECF6\",\"subunitcolor\":\"white\",\"showland\":true,\"showlakes\":true,\"lakecolor\":\"white\"},\"title\":{\"x\":0.05},\"mapbox\":{\"style\":\"light\"}}},\"barmode\":\"stack\"},                        {\"responsive\": true}                    ).then(function(){\n",
       "                            \n",
       "var gd = document.getElementById('27a4931f-cfff-456f-9f57-e160fa423ca6');\n",
       "var x = new MutationObserver(function (mutations, observer) {{\n",
       "        var display = window.getComputedStyle(gd).display;\n",
       "        if (!display || display === 'none') {{\n",
       "            console.log([gd, 'removed!']);\n",
       "            Plotly.purge(gd);\n",
       "            observer.disconnect();\n",
       "        }}\n",
       "}});\n",
       "\n",
       "// Listen for the removal of the full notebook cells\n",
       "var notebookContainer = gd.closest('#notebook-container');\n",
       "if (notebookContainer) {{\n",
       "    x.observe(notebookContainer, {childList: true});\n",
       "}}\n",
       "\n",
       "// Listen for the clearing of the current output cell\n",
       "var outputEl = gd.closest('.output');\n",
       "if (outputEl) {{\n",
       "    x.observe(outputEl, {childList: true});\n",
       "}}\n",
       "\n",
       "                        })                };                });            </script>        </div>"
      ]
     },
     "metadata": {},
     "output_type": "display_data"
    },
    {
     "data": {
      "text/plain": [
       "'\\nfuture:\\n- clickable annual plot to show monthly data\\n- scale all monthly plots to max of all datasets\\n- grouped plot with all month-by-years side by side\\n\\n'"
      ]
     },
     "execution_count": 9,
     "metadata": {},
     "output_type": "execute_result"
    }
   ],
   "source": [
    "import rimsdash.analytics as analytics\n",
    "\n",
    "#get data for single year and pass to usage_bar\n",
    "\n",
    "fig = analytics.usage_bar(monthly_usage)\n",
    "\n",
    "fig.show()\n",
    "\n",
    "#analytics.usage_bar(annual_usage)\n",
    "\n",
    "\"\"\"\n",
    "future:\n",
    "- clickable annual plot to show monthly data\n",
    "- scale all monthly plots to max of all datasets\n",
    "- grouped plot with all month-by-years side by side\n",
    "\n",
    "\"\"\"\n",
    "\n",
    "\n"
   ]
  },
  {
   "cell_type": "code",
   "execution_count": 11,
   "metadata": {},
   "outputs": [],
   "source": [
    "names = full_data['Instrument Name'].unique()\n",
    "ids = full_data['Instrument ID'].unique()"
   ]
  },
  {
   "cell_type": "code",
   "execution_count": 27,
   "metadata": {},
   "outputs": [
    {
     "data": {
      "text/plain": [
       "array([126])"
      ]
     },
     "execution_count": 27,
     "metadata": {},
     "output_type": "execute_result"
    }
   ],
   "source": [
    "import numpy as np\n",
    "\n",
    "i = np.where(names == 'CHEM XFM iXRF SYSTEMS')\n",
    "\n",
    "ids[i]\n",
    "\n",
    "\n",
    "\n"
   ]
  },
  {
   "cell_type": "code",
   "execution_count": 33,
   "metadata": {},
   "outputs": [
    {
     "data": {
      "text/plain": [
       "numpy.int64"
      ]
     },
     "execution_count": 33,
     "metadata": {},
     "output_type": "execute_result"
    }
   ],
   "source": [
    "temp_id=126\n",
    "___, ___, full_data = gather.get_usage(temp_id)\n",
    "iname_list = full_data['Instrument Name'].unique()\n",
    "iindex_list = full_data['Instrument ID'].unique()\n",
    "\n",
    "instrument_name='CHEM XFM iXRF SYSTEMS'\n",
    "instrument_id = iindex_list[np.where(iname_list == instrument_name)]\n"
   ]
  },
  {
   "cell_type": "code",
   "execution_count": 47,
   "metadata": {},
   "outputs": [
    {
     "name": "stdout",
     "output_type": "stream",
     "text": [
      "['ADMIN CMM VEHICLE', 'ADMIN HAWKEN CARKPARK 1', 'AIBN BENCH WORK', 'AIBN BIOWAVE', 'AIBN CITOVAC COLD MOUNT', 'AIBN CPD', 'AIBN FIB NX5000', 'AIBN FIB SCIOS', 'AIBN FREEZE DRYER', 'AIBN HITACHI HT7700-A EDS', 'AIBN HITACHI HT7700-B', 'AIBN HITACHI TM4000', 'AIBN JEOL NEOSCOPE', 'AIBN LAB ACCESS 24/7', 'AIBN LAB ACCESS 9AM – 5PM', 'AIBN LEICA AFS 2 (PEBBLES)', 'AIBN LEICA EMPACT2 HIGH PRESSURE FREEZER', 'AIBN LEICA HPM100 HIGH PRESSURE FREEZER', 'AIBN LEICA LMD LASER DISSECTION LIGHT MICROSC', 'AIBN MBRAUN GLOVE BOX', 'AIBN MICROTRAC CAMSIZER M1', 'AIBN MJET POWDER DISPERSION UNIT', 'AIBN NIKON C2SI UPRIGHT CONFOCAL MICROSCOPE', 'AIBN NIKON TI-E INVERTED FLUORESCENCE MICROSCOPY', 'AIBN OPTICAL OLYMPUS BX61', 'AIBN PITSCHI-TEST-WIN10', 'AIBN SPI GOLD COATER', 'AIBN SU 3900', 'AIBN TECNAI F20 FEG', 'AIBN THERMO FISHER APREO/VOLUMESCOPE', 'AIBN ULTRACUT UC61 (BUGSY)', 'AIBN ULTRACUT UC62 (FAT SAM)', 'AIBN ULTRACUT UC63', 'AIBN ULTRACUT UC6FCS2', 'AIBN VR WORKSTATION', 'AIBN ZEISS SIGMA/ 3VIEW (BLINKY)', 'ALISON WHITE', 'BEAMER HOTDESK', 'BRUKER AMAZON SPEED WITH ETD', 'BRUKER AUTOFLEX SPEED', 'BRUKER MICROTOF Q II', 'BRUKER TIMS TOF FLEX', 'CEE APOGEE SPINCOATER & HOTPLATE', 'CHEM BRUKER POWDER XRD D8', 'CHEM BRUKER POWDER XRD SAMPLE PREP', 'CHEM HITACHI TM4000PLUS', 'CHEM KRATOS XPS', 'CHEM KRATOS XPS SUPRA+', 'CHEM PC WORKSTATION 1 QPA', 'CHEM PC WORKSTATION 2 QPA', 'CHEM PC WORKSTATION 3 XRD', 'CHEM PC WORKSTATION 4 XRD', 'CHEM PC WORKSTATION 5 XRD', 'CHEM PC WORKSTATION 6 XRD', 'CHEM RIGAKU SMARTLAB SE SAMPLE PREP', 'CHEM RIGAKU SMARTLAB SE XRD-COBALT SOURCE', 'CHEM RIGAKU THIN-FILM XRD', 'CHEM SKYSCAN 1174 XCT', 'CHEM XENOCS SAXS', 'CHEM XFM iXRF SYSTEMS', 'CHEMISTRY LAB ACCESS 9AM – 5PM', 'CHEMISTRY MEETING ROOM', 'CLEANROOM', 'CLEANROOM ( METROLOGY)', 'CLEANROOM (CHEMICAL)', 'CRAIG STOPPIELLO', 'DEKTAK', 'EBPG REMOTE PC', 'EBPG5150', 'ELLIOT CHENG', 'ERICA LOVAS', 'EUNICE GRINAN', 'FORKLIFT', 'HAWKEN ACCUTOM 50 DISC SAW', 'HAWKEN BX41', 'HAWKEN CARBON CTR QT150TES', 'HAWKEN CITOPRESS 15 HOT MOUNT', 'HAWKEN COMPUTER SPACE TEACHING AREA', 'HAWKEN EBSD', 'HAWKEN EDS/XRAY THEORY', 'HAWKEN EVACTRON PLASMA CLEANER', 'HAWKEN HITACHI HF5000', 'HAWKEN HITACHI SU3500A (AZtec, UVD]', 'HAWKEN HITACHI SU3500B', 'HAWKEN IM4000 ION MILL', 'HAWKEN JEOL 6610', 'HAWKEN JEOL 7001F', 'HAWKEN JEOL 7100F', 'HAWKEN JEOL 7800', 'HAWKEN LAB ACCESS 24/7', 'HAWKEN LAB ACCESS 9AM - 5PM', 'HAWKEN MULTIPURPOSE ROOM', 'HAWKEN OLYMPUS DSX-1000', 'HAWKEN PHILIPS XL30', 'HAWKEN PIPS', 'HAWKEN PIPS + COLD STAGE', 'HAWKEN PLATINUM COATER_Q150TS', 'HAWKEN POST PROCESS EDS/EBSD AZTEC', 'HAWKEN PROBE 8200', 'HAWKEN RAMAN', 'HAWKEN SEM CRYO ALTO 2500', 'HAWKEN SEMSA OVEN #1', 'HAWKEN SEMSA OVEN #2', 'HAWKEN TEGRAMIN 20 POLISHER', 'HAWKEN UV ZONE CLEANER', 'HEIKE BOSTELMANN', 'HUI DIAO', 'IMAGE PREP 1', 'IMAGE PREP 2', 'KATHRYN GREEN', 'KIM SEWELL', 'LACHLAN CASEY', 'MATTHIAS FLOETENMEYER', 'MNPCF KRUSS DSA 10', 'MNPCF MICROTRAC SYNC', 'MNPCF NANOFCM NANOANALYZER', 'MNPCF_Malvern-Mastersizer 3000', 'MNPCF_Malvern-Zetasizer Ultra', 'MNPCF_Nanosight-NS300', 'MOSQUITO LCP', 'MOSQUITO PROTEIN', 'OLEXANDRA MARENYCH', 'PHILIPPA UWINS', 'PITSCHI & 2D/3D IMAGE PROCESSING', 'PLASMA CLEANER', 'PROTEINEER SPOTTING ROBOT', 'QBP BALTEC HPM010', 'QBP BIOWAVE', 'QBP CPD', 'QBP DIENER FEMTOPLASMA CLEANER', 'QBP GATAN CRYO HOLDER 1', 'QBP JEOL 1011', 'QBP JEOL CRYO-ARM-200', 'QBP JEOL CRYO-ARM-300', 'QBP JEOL NEOSCOPE', 'QBP LAB ACCESS 24/7', 'QBP LAB ACCESS 9AM – 5PM', 'QBP LEICA EM GP2', 'QBP LEICA ULTRACUT UC6-FCS', 'QBP TECNAI F30', 'QBP TECNAI T12', 'QBP UQROCX LAB ACCESS 9AM - 5PM', 'QBP VITROBOT MK II', 'QBP VITROBOT MK IV', 'RAITH E-LINE PLUS SEM', 'REFEYN ONE MP', 'RICK WEBB', 'RON RASCH', 'RUBBIYA ALI', 'SPICER CONSULTING', 'SPIRAL TOF', 'SUNCHROM DIGESTER', 'SUNCHROM SPRAYER', 'TECAN ROBOT', 'THERMO QUANTUM ULTRA', 'ULTRAFLEX III 1', 'ULTRAFLEX III 2', 'ULTRAFLEXTREME', 'WATERS MRT', 'YING YU', 'ZEISS LSM 900 CRYO']\n",
      "['AIBN TECNAI F20 FEG', 'HAWKEN HITACHI SU3500A (AZtec, UVD]', 'AIBN HITACHI HT7700-B', 'CHEM BRUKER POWDER XRD SAMPLE PREP', 'AIBN HITACHI HT7700-A EDS', 'CHEM BRUKER POWDER XRD D8', 'AIBN OPTICAL OLYMPUS BX61', 'HAWKEN HITACHI HF5000', 'HAWKEN JEOL 7800', 'HAWKEN SEMSA OVEN #1', 'CHEM KRATOS XPS', 'HAWKEN EVACTRON PLASMA CLEANER', 'AIBN FIB SCIOS', 'HAWKEN JEOL 7100F', 'HAWKEN SEMSA OVEN #2', 'HAWKEN PLATINUM COATER_Q150TS', 'HAWKEN CARBON CTR QT150TES', 'EBPG5150', 'EBPG REMOTE PC', 'ELLIOT CHENG', 'HAWKEN JEOL 6610', 'AIBN ULTRACUT UC62 (FAT SAM)', 'HAWKEN PROBE 8200', 'CHEM RIGAKU THIN-FILM XRD', 'AIBN ULTRACUT UC61 (BUGSY)', 'HAWKEN RAMAN', 'HAWKEN JEOL 7001F', 'QBP TECNAI T12', 'QBP JEOL 1011', 'MOSQUITO LCP', 'QBP CPD', 'QBP TECNAI F30', 'QBP VITROBOT MK II', 'AIBN BIOWAVE', 'AIBN CPD', 'AIBN HITACHI TM4000', 'ADMIN HAWKEN CARKPARK 1', 'CEE APOGEE SPINCOATER & HOTPLATE', 'MOSQUITO PROTEIN', 'ULTRAFLEX III 1', 'BRUKER MICROTOF Q II', 'THERMO QUANTUM ULTRA', 'AIBN ULTRACUT UC63', 'AIBN THERMO FISHER APREO/VOLUMESCOPE', 'QBP JEOL NEOSCOPE', 'ADMIN CMM VEHICLE', 'PROTEINEER SPOTTING ROBOT', 'IMAGE PREP 1', 'ULTRAFLEX III 2', 'IMAGE PREP 2', 'BRUKER AUTOFLEX SPEED', 'BRUKER AMAZON SPEED WITH ETD', 'RAITH E-LINE PLUS SEM', 'CHEM XFM iXRF SYSTEMS', 'TECAN ROBOT', 'HAWKEN MULTIPURPOSE ROOM', 'RON RASCH', 'QBP GATAN CRYO HOLDER 1', 'PLASMA CLEANER', 'QBP BIOWAVE', 'CHEM XENOCS SAXS', 'HAWKEN EBSD', 'AIBN JEOL NEOSCOPE', 'AIBN ZEISS SIGMA/ 3VIEW (BLINKY)', 'AIBN SPI GOLD COATER', 'DEKTAK', 'AIBN ULTRACUT UC6FCS2', 'CHEMISTRY MEETING ROOM', 'HAWKEN COMPUTER SPACE TEACHING AREA', 'HAWKEN SEM CRYO ALTO 2500', 'AIBN VR WORKSTATION', 'KIM SEWELL', 'YING YU', 'AIBN FREEZE DRYER', 'HAWKEN IM4000 ION MILL', 'AIBN LAB ACCESS 9AM – 5PM', 'AIBN LEICA HPM100 HIGH PRESSURE FREEZER', 'HEIKE BOSTELMANN', 'AIBN LEICA EMPACT2 HIGH PRESSURE FREEZER', 'ERICA LOVAS', 'HAWKEN PIPS', 'HAWKEN PIPS + COLD STAGE', 'MATTHIAS FLOETENMEYER', 'HAWKEN PHILIPS XL30', 'AIBN LEICA AFS 2 (PEBBLES)', 'EUNICE GRINAN', 'RICK WEBB', 'HAWKEN LAB ACCESS 9AM - 5PM', 'QBP UQROCX LAB ACCESS 9AM - 5PM', 'REFEYN ONE MP', 'CHEMISTRY LAB ACCESS 9AM – 5PM', 'HUI DIAO', 'QBP JEOL CRYO-ARM-300', 'CLEANROOM', 'QBP JEOL CRYO-ARM-200', 'CHEM PC WORKSTATION 1 QPA', 'CHEM PC WORKSTATION 3 XRD', 'CHEM PC WORKSTATION 2 QPA', 'QBP LEICA ULTRACUT UC6-FCS', 'FORKLIFT', 'HAWKEN UV ZONE CLEANER', 'PITSCHI & 2D/3D IMAGE PROCESSING', 'HAWKEN POST PROCESS EDS/EBSD AZTEC', 'HAWKEN EDS/XRAY THEORY', 'QBP LEICA EM GP2', 'QBP LAB ACCESS 24/7', 'AIBN LEICA LMD LASER DISSECTION LIGHT MICROSC', 'AIBN LAB ACCESS 24/7', 'HAWKEN LAB ACCESS 24/7', 'HAWKEN HITACHI SU3500B', 'QBP VITROBOT MK IV', 'ULTRAFLEXTREME', 'RUBBIYA ALI', 'SPIRAL TOF', 'BEAMER HOTDESK', 'CLEANROOM (CHEMICAL)', 'CLEANROOM ( METROLOGY)', 'BRUKER TIMS TOF FLEX', 'SPICER CONSULTING', 'QBP LAB ACCESS 9AM – 5PM', 'CHEM KRATOS XPS SUPRA+', 'AIBN FIB NX5000', 'SUNCHROM DIGESTER', 'SUNCHROM SPRAYER', 'CHEM RIGAKU SMARTLAB SE XRD-COBALT SOURCE', 'CHEM RIGAKU SMARTLAB SE SAMPLE PREP', 'PHILIPPA UWINS', 'HAWKEN BX41', 'MNPCF MICROTRAC SYNC', 'AIBN MICROTRAC CAMSIZER M1', 'HAWKEN OLYMPUS DSX-1000', 'MNPCF KRUSS DSA 10', 'OLEXANDRA MARENYCH', 'WATERS MRT', 'QBP DIENER FEMTOPLASMA CLEANER', 'AIBN MJET POWDER DISPERSION UNIT', 'AIBN MBRAUN GLOVE BOX', 'MNPCF NANOFCM NANOANALYZER', 'AIBN SU 3900', 'CHEM HITACHI TM4000PLUS', 'KATHRYN GREEN', 'MNPCF_Nanosight-NS300', 'HAWKEN TEGRAMIN 20 POLISHER', 'HAWKEN ACCUTOM 50 DISC SAW', 'MNPCF_Malvern-Zetasizer Ultra', 'AIBN NIKON C2SI UPRIGHT CONFOCAL MICROSCOPE', 'AIBN NIKON TI-E INVERTED FLUORESCENCE MICROSCOPY', 'CHEM SKYSCAN 1174 XCT', 'CRAIG STOPPIELLO', 'AIBN CITOVAC COLD MOUNT', 'QBP BALTEC HPM010', 'MNPCF_Malvern-Mastersizer 3000', 'HAWKEN CITOPRESS 15 HOT MOUNT', 'CHEM PC WORKSTATION 4 XRD', 'CHEM PC WORKSTATION 5 XRD', 'AIBN PITSCHI-TEST-WIN10', 'ZEISS LSM 900 CRYO', 'LACHLAN CASEY', 'ALISON WHITE', 'CHEM PC WORKSTATION 6 XRD', 'AIBN BENCH WORK']\n"
     ]
    }
   ],
   "source": [
    "pyiname_list = iname_list.tolist()\n",
    "pyiindex_list = iindex_list.tolist()\n",
    "\n",
    "instrument_id = pyiindex_list[pyiname_list.index(instrument_name)]\n",
    "\n",
    "print(sorted(pyiname_list))\n",
    "print(pyiname_list)"
   ]
  }
 ],
 "metadata": {
  "kernelspec": {
   "display_name": "venv_rimsdash",
   "language": "python",
   "name": "python3"
  },
  "language_info": {
   "codemirror_mode": {
    "name": "ipython",
    "version": 3
   },
   "file_extension": ".py",
   "mimetype": "text/x-python",
   "name": "python",
   "nbconvert_exporter": "python",
   "pygments_lexer": "ipython3",
   "version": "3.10.6"
  },
  "orig_nbformat": 4
 },
 "nbformat": 4,
 "nbformat_minor": 2
}
