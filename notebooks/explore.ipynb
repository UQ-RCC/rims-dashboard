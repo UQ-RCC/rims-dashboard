{
 "cells": [
  {
   "cell_type": "code",
   "execution_count": 2,
   "metadata": {},
   "outputs": [
    {
     "name": "stdout",
     "output_type": "stream",
     "text": [
      "The autoreload extension is already loaded. To reload it, use:\n",
      "  %reload_ext autoreload\n"
     ]
    }
   ],
   "source": [
    "%load_ext autoreload\n",
    "%autoreload 2\n",
    "import sys\n",
    "import os\n",
    "import pandas as pd\n",
    "\n",
    "#add the parent folder to sys path so we can import from the notebook subfolder\n",
    "sys.path.insert(1,'..')\n",
    "\n",
    "import rimsdash.rims as rims\n",
    "import rimsdash.gather as gather\n",
    "import rimsdash.analytics as analytics\n",
    "import rimsdash.config as config\n",
    "\n",
    "\n",
    "instrument_id=126\n",
    "\n",
    "monthly_usage, annual_usage, full_data = gather.get_usage(instrument_id)\n"
   ]
  },
  {
   "cell_type": "code",
   "execution_count": 7,
   "metadata": {},
   "outputs": [
    {
     "data": {
      "text/plain": [
       "551.25"
      ]
     },
     "execution_count": 7,
     "metadata": {},
     "output_type": "execute_result"
    }
   ],
   "source": [
    "import rimsdash.analytics as analytics\n",
    "\n",
    "#get data for single year and pass to usage_bar\n",
    "\n",
    "fig = analytics.usage_bar(monthly_usage)\n",
    "\n",
    "#fig.show()\n",
    "\n",
    "#analytics.usage_bar(annual_usage)\n",
    "\n",
    "\"\"\"\n",
    "future:\n",
    "- clickable annual plot to show monthly data\n",
    "- scale all monthly plots to max of all datasets\n",
    "- grouped plot with all month-by-years side by side\n",
    "\n",
    "\"\"\"\n",
    "\n",
    "max(monthly_usage['user_hours']+monthly_usage['internal_hours'])\n"
   ]
  },
  {
   "cell_type": "code",
   "execution_count": 11,
   "metadata": {},
   "outputs": [],
   "source": [
    "names = full_data['Instrument Name'].unique()\n",
    "ids = full_data['Instrument ID'].unique()"
   ]
  },
  {
   "cell_type": "code",
   "execution_count": 27,
   "metadata": {},
   "outputs": [
    {
     "data": {
      "text/plain": [
       "array([126])"
      ]
     },
     "execution_count": 27,
     "metadata": {},
     "output_type": "execute_result"
    }
   ],
   "source": [
    "import numpy as np\n",
    "\n",
    "i = np.where(names == 'CHEM XFM iXRF SYSTEMS')\n",
    "\n",
    "ids[i]\n",
    "\n",
    "\n",
    "\n"
   ]
  },
  {
   "cell_type": "code",
   "execution_count": 33,
   "metadata": {},
   "outputs": [
    {
     "data": {
      "text/plain": [
       "numpy.int64"
      ]
     },
     "execution_count": 33,
     "metadata": {},
     "output_type": "execute_result"
    }
   ],
   "source": [
    "temp_id=126\n",
    "___, ___, full_data = gather.get_usage(temp_id)\n",
    "iname_list = full_data['Instrument Name'].unique()\n",
    "iindex_list = full_data['Instrument ID'].unique()\n",
    "\n",
    "instrument_name='CHEM XFM iXRF SYSTEMS'\n",
    "instrument_id = iindex_list[np.where(iname_list == instrument_name)]\n"
   ]
  },
  {
   "cell_type": "code",
   "execution_count": 47,
   "metadata": {},
   "outputs": [
    {
     "name": "stdout",
     "output_type": "stream",
     "text": [
      "['ADMIN CMM VEHICLE', 'ADMIN HAWKEN CARKPARK 1', 'AIBN BENCH WORK', 'AIBN BIOWAVE', 'AIBN CITOVAC COLD MOUNT', 'AIBN CPD', 'AIBN FIB NX5000', 'AIBN FIB SCIOS', 'AIBN FREEZE DRYER', 'AIBN HITACHI HT7700-A EDS', 'AIBN HITACHI HT7700-B', 'AIBN HITACHI TM4000', 'AIBN JEOL NEOSCOPE', 'AIBN LAB ACCESS 24/7', 'AIBN LAB ACCESS 9AM – 5PM', 'AIBN LEICA AFS 2 (PEBBLES)', 'AIBN LEICA EMPACT2 HIGH PRESSURE FREEZER', 'AIBN LEICA HPM100 HIGH PRESSURE FREEZER', 'AIBN LEICA LMD LASER DISSECTION LIGHT MICROSC', 'AIBN MBRAUN GLOVE BOX', 'AIBN MICROTRAC CAMSIZER M1', 'AIBN MJET POWDER DISPERSION UNIT', 'AIBN NIKON C2SI UPRIGHT CONFOCAL MICROSCOPE', 'AIBN NIKON TI-E INVERTED FLUORESCENCE MICROSCOPY', 'AIBN OPTICAL OLYMPUS BX61', 'AIBN PITSCHI-TEST-WIN10', 'AIBN SPI GOLD COATER', 'AIBN SU 3900', 'AIBN TECNAI F20 FEG', 'AIBN THERMO FISHER APREO/VOLUMESCOPE', 'AIBN ULTRACUT UC61 (BUGSY)', 'AIBN ULTRACUT UC62 (FAT SAM)', 'AIBN ULTRACUT UC63', 'AIBN ULTRACUT UC6FCS2', 'AIBN VR WORKSTATION', 'AIBN ZEISS SIGMA/ 3VIEW (BLINKY)', 'ALISON WHITE', 'BEAMER HOTDESK', 'BRUKER AMAZON SPEED WITH ETD', 'BRUKER AUTOFLEX SPEED', 'BRUKER MICROTOF Q II', 'BRUKER TIMS TOF FLEX', 'CEE APOGEE SPINCOATER & HOTPLATE', 'CHEM BRUKER POWDER XRD D8', 'CHEM BRUKER POWDER XRD SAMPLE PREP', 'CHEM HITACHI TM4000PLUS', 'CHEM KRATOS XPS', 'CHEM KRATOS XPS SUPRA+', 'CHEM PC WORKSTATION 1 QPA', 'CHEM PC WORKSTATION 2 QPA', 'CHEM PC WORKSTATION 3 XRD', 'CHEM PC WORKSTATION 4 XRD', 'CHEM PC WORKSTATION 5 XRD', 'CHEM PC WORKSTATION 6 XRD', 'CHEM RIGAKU SMARTLAB SE SAMPLE PREP', 'CHEM RIGAKU SMARTLAB SE XRD-COBALT SOURCE', 'CHEM RIGAKU THIN-FILM XRD', 'CHEM SKYSCAN 1174 XCT', 'CHEM XENOCS SAXS', 'CHEM XFM iXRF SYSTEMS', 'CHEMISTRY LAB ACCESS 9AM – 5PM', 'CHEMISTRY MEETING ROOM', 'CLEANROOM', 'CLEANROOM ( METROLOGY)', 'CLEANROOM (CHEMICAL)', 'CRAIG STOPPIELLO', 'DEKTAK', 'EBPG REMOTE PC', 'EBPG5150', 'ELLIOT CHENG', 'ERICA LOVAS', 'EUNICE GRINAN', 'FORKLIFT', 'HAWKEN ACCUTOM 50 DISC SAW', 'HAWKEN BX41', 'HAWKEN CARBON CTR QT150TES', 'HAWKEN CITOPRESS 15 HOT MOUNT', 'HAWKEN COMPUTER SPACE TEACHING AREA', 'HAWKEN EBSD', 'HAWKEN EDS/XRAY THEORY', 'HAWKEN EVACTRON PLASMA CLEANER', 'HAWKEN HITACHI HF5000', 'HAWKEN HITACHI SU3500A (AZtec, UVD]', 'HAWKEN HITACHI SU3500B', 'HAWKEN IM4000 ION MILL', 'HAWKEN JEOL 6610', 'HAWKEN JEOL 7001F', 'HAWKEN JEOL 7100F', 'HAWKEN JEOL 7800', 'HAWKEN LAB ACCESS 24/7', 'HAWKEN LAB ACCESS 9AM - 5PM', 'HAWKEN MULTIPURPOSE ROOM', 'HAWKEN OLYMPUS DSX-1000', 'HAWKEN PHILIPS XL30', 'HAWKEN PIPS', 'HAWKEN PIPS + COLD STAGE', 'HAWKEN PLATINUM COATER_Q150TS', 'HAWKEN POST PROCESS EDS/EBSD AZTEC', 'HAWKEN PROBE 8200', 'HAWKEN RAMAN', 'HAWKEN SEM CRYO ALTO 2500', 'HAWKEN SEMSA OVEN #1', 'HAWKEN SEMSA OVEN #2', 'HAWKEN TEGRAMIN 20 POLISHER', 'HAWKEN UV ZONE CLEANER', 'HEIKE BOSTELMANN', 'HUI DIAO', 'IMAGE PREP 1', 'IMAGE PREP 2', 'KATHRYN GREEN', 'KIM SEWELL', 'LACHLAN CASEY', 'MATTHIAS FLOETENMEYER', 'MNPCF KRUSS DSA 10', 'MNPCF MICROTRAC SYNC', 'MNPCF NANOFCM NANOANALYZER', 'MNPCF_Malvern-Mastersizer 3000', 'MNPCF_Malvern-Zetasizer Ultra', 'MNPCF_Nanosight-NS300', 'MOSQUITO LCP', 'MOSQUITO PROTEIN', 'OLEXANDRA MARENYCH', 'PHILIPPA UWINS', 'PITSCHI & 2D/3D IMAGE PROCESSING', 'PLASMA CLEANER', 'PROTEINEER SPOTTING ROBOT', 'QBP BALTEC HPM010', 'QBP BIOWAVE', 'QBP CPD', 'QBP DIENER FEMTOPLASMA CLEANER', 'QBP GATAN CRYO HOLDER 1', 'QBP JEOL 1011', 'QBP JEOL CRYO-ARM-200', 'QBP JEOL CRYO-ARM-300', 'QBP JEOL NEOSCOPE', 'QBP LAB ACCESS 24/7', 'QBP LAB ACCESS 9AM – 5PM', 'QBP LEICA EM GP2', 'QBP LEICA ULTRACUT UC6-FCS', 'QBP TECNAI F30', 'QBP TECNAI T12', 'QBP UQROCX LAB ACCESS 9AM - 5PM', 'QBP VITROBOT MK II', 'QBP VITROBOT MK IV', 'RAITH E-LINE PLUS SEM', 'REFEYN ONE MP', 'RICK WEBB', 'RON RASCH', 'RUBBIYA ALI', 'SPICER CONSULTING', 'SPIRAL TOF', 'SUNCHROM DIGESTER', 'SUNCHROM SPRAYER', 'TECAN ROBOT', 'THERMO QUANTUM ULTRA', 'ULTRAFLEX III 1', 'ULTRAFLEX III 2', 'ULTRAFLEXTREME', 'WATERS MRT', 'YING YU', 'ZEISS LSM 900 CRYO']\n",
      "['AIBN TECNAI F20 FEG', 'HAWKEN HITACHI SU3500A (AZtec, UVD]', 'AIBN HITACHI HT7700-B', 'CHEM BRUKER POWDER XRD SAMPLE PREP', 'AIBN HITACHI HT7700-A EDS', 'CHEM BRUKER POWDER XRD D8', 'AIBN OPTICAL OLYMPUS BX61', 'HAWKEN HITACHI HF5000', 'HAWKEN JEOL 7800', 'HAWKEN SEMSA OVEN #1', 'CHEM KRATOS XPS', 'HAWKEN EVACTRON PLASMA CLEANER', 'AIBN FIB SCIOS', 'HAWKEN JEOL 7100F', 'HAWKEN SEMSA OVEN #2', 'HAWKEN PLATINUM COATER_Q150TS', 'HAWKEN CARBON CTR QT150TES', 'EBPG5150', 'EBPG REMOTE PC', 'ELLIOT CHENG', 'HAWKEN JEOL 6610', 'AIBN ULTRACUT UC62 (FAT SAM)', 'HAWKEN PROBE 8200', 'CHEM RIGAKU THIN-FILM XRD', 'AIBN ULTRACUT UC61 (BUGSY)', 'HAWKEN RAMAN', 'HAWKEN JEOL 7001F', 'QBP TECNAI T12', 'QBP JEOL 1011', 'MOSQUITO LCP', 'QBP CPD', 'QBP TECNAI F30', 'QBP VITROBOT MK II', 'AIBN BIOWAVE', 'AIBN CPD', 'AIBN HITACHI TM4000', 'ADMIN HAWKEN CARKPARK 1', 'CEE APOGEE SPINCOATER & HOTPLATE', 'MOSQUITO PROTEIN', 'ULTRAFLEX III 1', 'BRUKER MICROTOF Q II', 'THERMO QUANTUM ULTRA', 'AIBN ULTRACUT UC63', 'AIBN THERMO FISHER APREO/VOLUMESCOPE', 'QBP JEOL NEOSCOPE', 'ADMIN CMM VEHICLE', 'PROTEINEER SPOTTING ROBOT', 'IMAGE PREP 1', 'ULTRAFLEX III 2', 'IMAGE PREP 2', 'BRUKER AUTOFLEX SPEED', 'BRUKER AMAZON SPEED WITH ETD', 'RAITH E-LINE PLUS SEM', 'CHEM XFM iXRF SYSTEMS', 'TECAN ROBOT', 'HAWKEN MULTIPURPOSE ROOM', 'RON RASCH', 'QBP GATAN CRYO HOLDER 1', 'PLASMA CLEANER', 'QBP BIOWAVE', 'CHEM XENOCS SAXS', 'HAWKEN EBSD', 'AIBN JEOL NEOSCOPE', 'AIBN ZEISS SIGMA/ 3VIEW (BLINKY)', 'AIBN SPI GOLD COATER', 'DEKTAK', 'AIBN ULTRACUT UC6FCS2', 'CHEMISTRY MEETING ROOM', 'HAWKEN COMPUTER SPACE TEACHING AREA', 'HAWKEN SEM CRYO ALTO 2500', 'AIBN VR WORKSTATION', 'KIM SEWELL', 'YING YU', 'AIBN FREEZE DRYER', 'HAWKEN IM4000 ION MILL', 'AIBN LAB ACCESS 9AM – 5PM', 'AIBN LEICA HPM100 HIGH PRESSURE FREEZER', 'HEIKE BOSTELMANN', 'AIBN LEICA EMPACT2 HIGH PRESSURE FREEZER', 'ERICA LOVAS', 'HAWKEN PIPS', 'HAWKEN PIPS + COLD STAGE', 'MATTHIAS FLOETENMEYER', 'HAWKEN PHILIPS XL30', 'AIBN LEICA AFS 2 (PEBBLES)', 'EUNICE GRINAN', 'RICK WEBB', 'HAWKEN LAB ACCESS 9AM - 5PM', 'QBP UQROCX LAB ACCESS 9AM - 5PM', 'REFEYN ONE MP', 'CHEMISTRY LAB ACCESS 9AM – 5PM', 'HUI DIAO', 'QBP JEOL CRYO-ARM-300', 'CLEANROOM', 'QBP JEOL CRYO-ARM-200', 'CHEM PC WORKSTATION 1 QPA', 'CHEM PC WORKSTATION 3 XRD', 'CHEM PC WORKSTATION 2 QPA', 'QBP LEICA ULTRACUT UC6-FCS', 'FORKLIFT', 'HAWKEN UV ZONE CLEANER', 'PITSCHI & 2D/3D IMAGE PROCESSING', 'HAWKEN POST PROCESS EDS/EBSD AZTEC', 'HAWKEN EDS/XRAY THEORY', 'QBP LEICA EM GP2', 'QBP LAB ACCESS 24/7', 'AIBN LEICA LMD LASER DISSECTION LIGHT MICROSC', 'AIBN LAB ACCESS 24/7', 'HAWKEN LAB ACCESS 24/7', 'HAWKEN HITACHI SU3500B', 'QBP VITROBOT MK IV', 'ULTRAFLEXTREME', 'RUBBIYA ALI', 'SPIRAL TOF', 'BEAMER HOTDESK', 'CLEANROOM (CHEMICAL)', 'CLEANROOM ( METROLOGY)', 'BRUKER TIMS TOF FLEX', 'SPICER CONSULTING', 'QBP LAB ACCESS 9AM – 5PM', 'CHEM KRATOS XPS SUPRA+', 'AIBN FIB NX5000', 'SUNCHROM DIGESTER', 'SUNCHROM SPRAYER', 'CHEM RIGAKU SMARTLAB SE XRD-COBALT SOURCE', 'CHEM RIGAKU SMARTLAB SE SAMPLE PREP', 'PHILIPPA UWINS', 'HAWKEN BX41', 'MNPCF MICROTRAC SYNC', 'AIBN MICROTRAC CAMSIZER M1', 'HAWKEN OLYMPUS DSX-1000', 'MNPCF KRUSS DSA 10', 'OLEXANDRA MARENYCH', 'WATERS MRT', 'QBP DIENER FEMTOPLASMA CLEANER', 'AIBN MJET POWDER DISPERSION UNIT', 'AIBN MBRAUN GLOVE BOX', 'MNPCF NANOFCM NANOANALYZER', 'AIBN SU 3900', 'CHEM HITACHI TM4000PLUS', 'KATHRYN GREEN', 'MNPCF_Nanosight-NS300', 'HAWKEN TEGRAMIN 20 POLISHER', 'HAWKEN ACCUTOM 50 DISC SAW', 'MNPCF_Malvern-Zetasizer Ultra', 'AIBN NIKON C2SI UPRIGHT CONFOCAL MICROSCOPE', 'AIBN NIKON TI-E INVERTED FLUORESCENCE MICROSCOPY', 'CHEM SKYSCAN 1174 XCT', 'CRAIG STOPPIELLO', 'AIBN CITOVAC COLD MOUNT', 'QBP BALTEC HPM010', 'MNPCF_Malvern-Mastersizer 3000', 'HAWKEN CITOPRESS 15 HOT MOUNT', 'CHEM PC WORKSTATION 4 XRD', 'CHEM PC WORKSTATION 5 XRD', 'AIBN PITSCHI-TEST-WIN10', 'ZEISS LSM 900 CRYO', 'LACHLAN CASEY', 'ALISON WHITE', 'CHEM PC WORKSTATION 6 XRD', 'AIBN BENCH WORK']\n"
     ]
    }
   ],
   "source": [
    "pyiname_list = iname_list.tolist()\n",
    "pyiindex_list = iindex_list.tolist()\n",
    "\n",
    "instrument_id = pyiindex_list[pyiname_list.index(instrument_name)]\n",
    "\n",
    "print(sorted(pyiname_list))\n",
    "print(pyiname_list)"
   ]
  }
 ],
 "metadata": {
  "kernelspec": {
   "display_name": "venv_rimsdash",
   "language": "python",
   "name": "python3"
  },
  "language_info": {
   "codemirror_mode": {
    "name": "ipython",
    "version": 3
   },
   "file_extension": ".py",
   "mimetype": "text/x-python",
   "name": "python",
   "nbconvert_exporter": "python",
   "pygments_lexer": "ipython3",
   "version": "3.10.6"
  },
  "orig_nbformat": 4
 },
 "nbformat": 4,
 "nbformat_minor": 2
}
